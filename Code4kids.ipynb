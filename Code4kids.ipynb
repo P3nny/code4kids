{
 "cells": [
  {
   "cell_type": "markdown",
   "metadata": {},
   "source": [
    "# Code4kids "
   ]
  },
  {
   "cell_type": "markdown",
   "metadata": {},
   "source": [
    "15 Minuten \n",
    "- Vorstellungsrunde: Wie heißt Du, wie alt bist Du, benutzt Du Computer und wenn ja, wann? \n",
    "- Teams durchzählen: 1,2,3,4, pro Team ein Rechner "
   ]
  },
  {
   "cell_type": "markdown",
   "metadata": {},
   "source": [
    "Programmieren könnt ihr euch in etwa so vorstellen, wie es ist einen Kuchen backen\n",
    "\n",
    "**Rezept für Apple Crumble** \n",
    "- 50 Gramm Butter \n",
    "- 70 Gramm Haferflocken \n",
    "- 30 Gramm Mehl \n",
    "- 30 Gramm Zucker \n",
    "- 2 Äpfel \n",
    "- ofenfeste Form \n",
    "\n",
    "\n",
    "\n",
    "- Butter, Zucker, Mehl und Haferflocken miteinander vermischen, so dass Streusel entstehen  \n",
    "- Äpfel schälen und schneiden \n",
    "- Die Form buttern und die Äpfel hineinlegen \n",
    "- die Streusel über den Äpfeln verteilen \n",
    "- für 20 Minuten bei 150 Grad backen \n",
    "\n",
    "Die Zutaten sind Daten oder Datenstrukturen. \n",
    "Daten sind Angaben, Zahlenwerte, Zeichen oder Symbole, die Informationen darstellen. \n",
    "Im Falle der Zutaten ethält '50 Gramm Mehl' die Information, wie viel ihr von was braucht. \n",
    "\n",
    "In einem Rezept wird Schritt für Schritt erklärt, wie man aus den Zutaten einen fertigen Kuchen macht. \n",
    "Mit so einer Schritt für Schritt Anleitung arbeiten auch Computer. Man nennt das 'Algorithmus'. "
   ]
  },
  {
   "cell_type": "markdown",
   "metadata": {},
   "source": [
    "## 1. Spiel: Roboterkind und Programmiererkind - 10 \n",
    "\n",
    "Das erste Kind sagt, in genauen, kleinen Schritten, was das zweite Kind machen soll (so tun als ob): \n",
    "Wählt euch eine Aufgabe aus: \n",
    "\n",
    "- Zähne putzen \n",
    "- Müsli machen und essen \n",
    "- Tisch decken \n",
    "- Duschen gehen \n",
    "\n",
    "Danach wechselt ihr die Rollen."
   ]
  },
  {
   "cell_type": "markdown",
   "metadata": {},
   "source": [
    "Wie gut hat das geklappt? Gab es Fallstricke? "
   ]
  },
  {
   "cell_type": "markdown",
   "metadata": {},
   "source": [
    "## 2. Spiel:  Landkarte und Wege finden (Ruby Seite 80/81) - 10 \n",
    "\n",
    "Helft Ruby zu ihren Freunden zu finden, die 'Und jetzt Du'-Aufgabe könnt Ihr erst einmal weglassen. "
   ]
  },
  {
   "cell_type": "markdown",
   "metadata": {},
   "source": [
    "## An die Roboter, fertig los - 15\n",
    "\n",
    "Jetzt lasst ihr den Finch-Roboter fahren. \n",
    "\n",
    "- Am Rechner Snap öffnen, Finch-Roboter sollten schon angeschlossen sein \n",
    "- Zeigt dem Finch-Roboter den Weg zum Pinguin kommt, dabei könnt ihr euch aussuchen, \n",
    "welche Farbe der Finch haben soll \n",
    "- Dann zeigt ihr dem Finch, wie er zum Schneeleopard kommt \n",
    "- Könnt ihr dem Finch auch euren Schulweg zeigen? \n"
   ]
  },
  {
   "cell_type": "markdown",
   "metadata": {},
   "source": [
    "## Und jetzt in Scratch - (Scratch 26) - 10 \n",
    "- Öffnet Scratch (Code4Girls 1-4 sollten schon angemeldet sein) \n",
    "- Lest Euch das Blatt 'Die Scratch-Oberfläche' durch und probiert einmal aus, was ihr mit der Katze alles machen könnt"
   ]
  },
  {
   "cell_type": "markdown",
   "metadata": {},
   "source": [
    "## Zeigt der Katze euren Schulweg - (Scratch 38) - 20\n",
    "\n",
    "Versucht mal, ob ihr in Scratch auch ein Programm schreiben könnt, mit dem die Katze euren Schulweg abläuft "
   ]
  },
  {
   "cell_type": "markdown",
   "metadata": {},
   "source": [
    "## Kostüme ändern - (Scratch 40) - 15 \n",
    "\n"
   ]
  },
  {
   "cell_type": "markdown",
   "metadata": {},
   "source": [
    "## Dance, Dance, Dance - Oder was ist eine Schleife (Ruby 88 ) - 15 "
   ]
  },
  {
   "cell_type": "markdown",
   "metadata": {},
   "source": [
    "------------------------\n",
    "# PAUSE ! "
   ]
  },
  {
   "cell_type": "markdown",
   "metadata": {},
   "source": [
    "---------------"
   ]
  },
  {
   "cell_type": "markdown",
   "metadata": {},
   "source": [
    "## Einfache Schleifen (Scratch Seite 46) - 20 "
   ]
  },
  {
   "cell_type": "markdown",
   "metadata": {},
   "source": [
    "## Säen und Aufräumen - Ruby 92 "
   ]
  },
  {
   "cell_type": "markdown",
   "metadata": {},
   "source": [
    "## Bringt den Finch zum Tanzen - 20 \n",
    "\n",
    "- Unter Steuerung findet ihr den Punkt 'Wiederhole 10 Mal' \n",
    "Die 10 ist in diesem Fall eine Variable. Eine Variable könnt ihr euch so vorstellen, wie eine leere Kiste. In diese Kiste kann man immer wieder etwas anderes reintun. In diesem Fall eine Zahl. \n",
    "Und das heißt, ihr könnt die Zahl, die schon eingetragen ist, ändern. In diesem Fall gibt die Variable an, wie oft die Tanzschritte wiederholt werden sollen. Tippe auf die 10, dann kannst Du eine andere Zahl eintragen.\n",
    "\n",
    "- Überlegt euch ein paar Tanzschritte, die der Finch ausführen soll (Gerne auch mit Diskolicht)\n",
    "- Baut eine Schleife und lasst den Finch den Tanz 3 mal ausführen \n",
    "- Danach baut ihr einen andere Schrittfolge, die soll der Finch 3 mal ausführen \n",
    "- Danach soll er wieder die ersten Tanzschritte 3 mal ausführen \n"
   ]
  },
  {
   "cell_type": "markdown",
   "metadata": {},
   "source": [
    "## Befehlsknopf - (Ruby 90)  "
   ]
  },
  {
   "cell_type": "markdown",
   "metadata": {},
   "source": [
    "## True / False \n",
    "\n",
    "Amal und Patricia zeigen Euch Stromkreis auf dem Arduino und dem RaspberryPi. \n",
    "\n",
    "Computer arbeiten mit zwei Zuständen. An und Aus, bzw. Null und Eins. \n",
    "Wir zeigen euch, wie man Nuller und Einser zum Lächeln bringen kann. "
   ]
  },
  {
   "cell_type": "markdown",
   "metadata": {},
   "source": [
    "## Rubys Kleiderordnung - (Ruby 96) "
   ]
  },
  {
   "cell_type": "markdown",
   "metadata": {
    "collapsed": true
   },
   "source": [
    "## Wahr oder falsch - (Scratch 62)"
   ]
  },
  {
   "cell_type": "markdown",
   "metadata": {},
   "source": [
    "## Wahsagerin - (Ruby  Seite 77) "
   ]
  },
  {
   "cell_type": "markdown",
   "metadata": {
    "collapsed": true
   },
   "source": [
    "## Verzweigungen - (Scratch 65)  "
   ]
  },
  {
   "cell_type": "markdown",
   "metadata": {},
   "source": [
    "## Zahlen raten - Übung mit Schleife und Verzweigung\n",
    "\n",
    "- Schau Dir dieses Spiel an: [Zahlen raten](https://scratch.mit.edu/projects/181359430/)\n",
    "- Nicht in den Code gucken!\n",
    "- Versuche das Spiel selbst in Scratch zu programmieren. Keine Angst, wenn Du nicht weißt, wie Du anfangen sollst oder wenn Du nicht weiter weißt, helfen wir gerne. \n"
   ]
  },
  {
   "cell_type": "markdown",
   "metadata": {},
   "source": [
    "## Debugging - (Ruby 104)"
   ]
  },
  {
   "cell_type": "markdown",
   "metadata": {},
   "source": [
    "--------- "
   ]
  },
  {
   "cell_type": "markdown",
   "metadata": {},
   "source": [
    "# Tag 2 "
   ]
  },
  {
   "cell_type": "markdown",
   "metadata": {},
   "source": [
    "-------- "
   ]
  },
  {
   "cell_type": "markdown",
   "metadata": {},
   "source": [
    "## Stunde 1: Project Scratch - Flucht vor dem Drachen, wenn Zeit ist: Affenzirkus "
   ]
  },
  {
   "cell_type": "markdown",
   "metadata": {},
   "source": [
    "## Stunde 2: Lernwörter "
   ]
  },
  {
   "cell_type": "markdown",
   "metadata": {},
   "source": [
    "------ "
   ]
  },
  {
   "cell_type": "markdown",
   "metadata": {},
   "source": [
    "# PAUSE "
   ]
  },
  {
   "cell_type": "markdown",
   "metadata": {},
   "source": [
    "------- "
   ]
  },
  {
   "cell_type": "markdown",
   "metadata": {},
   "source": [
    "## Scratch mixing zeigen - 10 \n",
    "- Beispiele raussuchen "
   ]
  },
  {
   "cell_type": "markdown",
   "metadata": {},
   "source": [
    "## Eigenes Projekt "
   ]
  },
  {
   "cell_type": "code",
   "execution_count": null,
   "metadata": {
    "collapsed": true
   },
   "outputs": [],
   "source": []
  }
 ],
 "metadata": {
  "kernelspec": {
   "display_name": "Python 3",
   "language": "python",
   "name": "python3"
  },
  "language_info": {
   "codemirror_mode": {
    "name": "ipython",
    "version": 3
   },
   "file_extension": ".py",
   "mimetype": "text/x-python",
   "name": "python",
   "nbconvert_exporter": "python",
   "pygments_lexer": "ipython3",
   "version": "3.5.2"
  }
 },
 "nbformat": 4,
 "nbformat_minor": 2
}
